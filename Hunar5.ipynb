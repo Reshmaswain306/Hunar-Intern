{
  "nbformat": 4,
  "nbformat_minor": 0,
  "metadata": {
    "colab": {
      "provenance": []
    },
    "kernelspec": {
      "name": "python3",
      "display_name": "Python 3"
    },
    "language_info": {
      "name": "python"
    }
  },
  "cells": [
    {
      "cell_type": "code",
      "execution_count": null,
      "metadata": {
        "id": "sLx2VvJPKvSu"
      },
      "outputs": [],
      "source": [
        "import numpy as np"
      ]
    },
    {
      "cell_type": "code",
      "source": [
        "n = int(input(\"Enter the order of the matrix (n x n): \"))\n",
        "matrix = []\n",
        "\n",
        "#Get the matrix values from the user\n",
        "print(f\"Enter the values for the {n}x{n} matrix row by row:\")\n",
        "for i in range(n):\n",
        "    row = list(map(int, input().split()))\n",
        "    matrix.append(row)\n",
        "\n",
        "matrix = np.array(matrix)\n",
        "\n",
        "#Calculate the sum of the diagonal elements using a loop\n",
        "diagonal_sum = 0\n",
        "for i in range(n):\n",
        "    diagonal_sum += matrix[i][i]\n",
        "\n",
        "print(f\"The sum of the diagonal elements is: {diagonal_sum}\")"
      ],
      "metadata": {
        "colab": {
          "base_uri": "https://localhost:8080/"
        },
        "id": "0Kwk4DvKL7m6",
        "outputId": "be86dfbc-0228-4700-9457-c77ee4c0292f"
      },
      "execution_count": null,
      "outputs": [
        {
          "output_type": "stream",
          "name": "stdout",
          "text": [
            "Enter the order of the matrix (n x n): 3\n",
            "Enter the values for the 3x3 matrix row by row:\n",
            "1 2 3\n",
            "4 5 6\n",
            "3 3 4 \n",
            "The sum of the diagonal elements is: 10\n"
          ]
        }
      ]
    }
  ]
}